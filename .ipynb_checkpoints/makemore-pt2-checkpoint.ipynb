{
 "cells": [
  {
   "cell_type": "code",
   "execution_count": 2,
   "id": "a3c93121",
   "metadata": {},
   "outputs": [],
   "source": [
    "import torch\n",
    "import torch.nn.functional as F\n",
    "import matplotlib.pyplot as plt # for making figures\n",
    "%matplotlib inline"
   ]
  },
  {
   "cell_type": "code",
   "execution_count": 3,
   "id": "8c0e10fd",
   "metadata": {},
   "outputs": [
    {
     "data": {
      "text/plain": [
       "['emma', 'olivia', 'ava', 'isabella', 'sophia', 'charlotte', 'mia', 'amelia']"
      ]
     },
     "execution_count": 3,
     "metadata": {},
     "output_type": "execute_result"
    }
   ],
   "source": [
    "# read in all the words\n",
    "words = open('names.txt', 'r').read().splitlines()\n",
    "words[:8]"
   ]
  },
  {
   "cell_type": "code",
   "execution_count": 4,
   "id": "455a8d60",
   "metadata": {},
   "outputs": [
    {
     "data": {
      "text/plain": [
       "32033"
      ]
     },
     "execution_count": 4,
     "metadata": {},
     "output_type": "execute_result"
    }
   ],
   "source": [
    "len(words)"
   ]
  },
  {
   "cell_type": "code",
   "execution_count": 5,
   "id": "4d63c8ee",
   "metadata": {},
   "outputs": [
    {
     "name": "stdout",
     "output_type": "stream",
     "text": [
      "{1: 'a', 2: 'b', 3: 'c', 4: 'd', 5: 'e', 6: 'f', 7: 'g', 8: 'h', 9: 'i', 10: 'j', 11: 'k', 12: 'l', 13: 'm', 14: 'n', 15: 'o', 16: 'p', 17: 'q', 18: 'r', 19: 's', 20: 't', 21: 'u', 22: 'v', 23: 'w', 24: 'x', 25: 'y', 26: 'z', 0: '.'}\n"
     ]
    }
   ],
   "source": [
    "# build the vocabulary of characters and mappings to/from integers\n",
    "chars = sorted(list(set(''.join(words))))\n",
    "stoi = {s:i+1 for i,s in enumerate(chars)}\n",
    "stoi['.'] = 0\n",
    "itos = {i:s for s,i in stoi.items()}\n",
    "print(itos)"
   ]
  },
  {
   "cell_type": "code",
   "execution_count": 6,
   "id": "072a5f00",
   "metadata": {},
   "outputs": [],
   "source": [
    "# build the dataset\n",
    "\n",
    "block_size = 3 # context length: how many characters do we take to predict the next one?\n",
    "X, Y = [], []\n",
    "for w in words: # for each word\n",
    "  #print(w)\n",
    "  context = [0] * block_size # initialize context as ... for whatever block size is\n",
    "  for ch in w + '.': # for each character in the word plus the end character\n",
    "    ix = stoi[ch] # the int version of the char\n",
    "    X.append(context) # the last block_size chars (padded with .) context is the input example\n",
    "    Y.append(ix) # the current char is the expected output\n",
    "    #print(''.join(itos[i] for i in context), '--->', itos[ix])\n",
    "    context = context[1:] + [ix] # create the new block_size char input - crop the context and append the current char\n",
    "  \n",
    "X = torch.tensor(X)\n",
    "Y = torch.tensor(Y)"
   ]
  },
  {
   "cell_type": "code",
   "execution_count": 7,
   "id": "97dd7e1b",
   "metadata": {},
   "outputs": [
    {
     "name": "stdout",
     "output_type": "stream",
     "text": [
      "torch.Size([182625, 3]) torch.Size([182625])\n",
      "torch.Size([22655, 3]) torch.Size([22655])\n",
      "torch.Size([22866, 3]) torch.Size([22866])\n"
     ]
    }
   ],
   "source": [
    "# build the dataset\n",
    "block_size = 3 # context length: how many characters do we take to predict the next one?\n",
    "\n",
    "# see above\n",
    "def build_dataset(words):  \n",
    "  X, Y = [], []\n",
    "  for w in words:\n",
    "\n",
    "    #print(w)\n",
    "    context = [0] * block_size\n",
    "    for ch in w + '.':\n",
    "      ix = stoi[ch]\n",
    "      X.append(context)\n",
    "      Y.append(ix)\n",
    "      #print(''.join(itos[i] for i in context), '--->', itos[ix])\n",
    "      context = context[1:] + [ix] # crop and append\n",
    "\n",
    "  X = torch.tensor(X)\n",
    "  Y = torch.tensor(Y)\n",
    "  print(X.shape, Y.shape)\n",
    "  return X, Y\n",
    "\n",
    "import random\n",
    "random.seed(42) # use same seed for reproducability\n",
    "random.shuffle(words) # randomize the words in case there was an ordering in the file\n",
    "n1 = int(0.8*len(words)) # use 80% of the words as training\n",
    "n2 = int(0.9*len(words)) # 10% as dev\n",
    "                         # 10% implied as test\n",
    "    \n",
    "Xtr, Ytr = build_dataset(words[:n1]) # training set used to tune the weights\n",
    "Xdev, Ydev = build_dataset(words[n1:n2]) # dev set used to tune hyperparams like context length, # of neurons, etc.\n",
    "Xte, Yte = build_dataset(words[n2:]) # testing set used only for testing final model\n",
    "                                     # any time test set is used and you act on the result, increases odds of overfitting"
   ]
  },
  {
   "cell_type": "code",
   "execution_count": 18,
   "id": "3180c50c",
   "metadata": {},
   "outputs": [
    {
     "data": {
      "text/plain": [
       "tensor([[[-1.0374,  0.1667],\n",
       "         [-1.0374,  0.1667],\n",
       "         [-1.0374,  0.1667]],\n",
       "\n",
       "        [[-1.0374,  0.1667],\n",
       "         [-1.0374,  0.1667],\n",
       "         [ 0.0534, -0.2418]],\n",
       "\n",
       "        [[-1.0374,  0.1667],\n",
       "         [ 0.0534, -0.2418],\n",
       "         [-0.9791,  0.5294]],\n",
       "\n",
       "        ...,\n",
       "\n",
       "        [[-0.1400,  1.9322],\n",
       "         [-0.1400,  1.9322],\n",
       "         [ 0.1400, -0.1187]],\n",
       "\n",
       "        [[-0.1400,  1.9322],\n",
       "         [ 0.1400, -0.1187],\n",
       "         [-0.1400,  1.9322]],\n",
       "\n",
       "        [[ 0.1400, -0.1187],\n",
       "         [-0.1400,  1.9322],\n",
       "         [ 0.7899, -1.5023]]])"
      ]
     },
     "execution_count": 18,
     "metadata": {},
     "output_type": "execute_result"
    }
   ],
   "source": [
    "C = torch.randn((27, 2)) # create a two-diminsional representation of each letter\n",
    "emb = C[X] # for each entry of X, index into the new representation and convert the letter's int into the letter's 2D representation\n",
    "emb"
   ]
  },
  {
   "cell_type": "code",
   "execution_count": 19,
   "id": "1e8e602f",
   "metadata": {},
   "outputs": [
    {
     "name": "stdout",
     "output_type": "stream",
     "text": [
      "tensor([[-0.0460,  0.3472, -1.0911,  1.7026, -1.3938,  1.1187, -0.6547, -1.0061,\n",
      "         -0.8308,  0.5834,  0.0801, -0.7296,  1.0592,  0.9821,  0.5626, -0.0370,\n",
      "         -1.1045,  0.8141,  0.9736,  0.9727, -0.6314, -0.8894,  0.8331,  0.2243,\n",
      "          0.1303,  0.0192, -0.8156,  0.4403,  0.0500,  1.1348,  0.1381, -0.0298,\n",
      "          1.5608,  0.9785, -1.2572,  0.9908,  1.0611, -1.3221,  0.0455, -0.1580,\n",
      "          1.0103,  0.7780, -0.7421, -0.0385, -1.0434, -0.5245,  0.6198, -1.2322,\n",
      "         -2.2240,  0.6374, -0.6505, -0.8946, -0.1704,  2.1905, -1.5858,  0.6223,\n",
      "         -1.2453,  0.5773,  0.5614,  0.6184, -0.9413,  0.2722, -1.5246, -0.8541,\n",
      "          0.0237, -0.4261,  1.2794, -1.8232,  0.4789, -0.7284, -0.3925, -0.2038,\n",
      "          1.7221, -0.4401,  0.8417, -0.8979, -0.0131,  2.2202,  0.2407,  0.4217,\n",
      "         -0.6118, -1.3940,  0.4757,  1.1767, -0.5104,  0.1010,  0.4588,  0.3638,\n",
      "          1.9923,  1.3494,  2.4204,  1.5222, -1.6991,  0.8304,  0.0133,  0.2990,\n",
      "         -0.1662, -1.0954,  0.7641, -0.1649],\n",
      "        [-1.9980, -0.8819,  0.2975, -1.3669, -0.3090, -0.7741, -0.0867, -0.5063,\n",
      "          0.4714, -1.0671,  0.2215,  0.8826, -0.2726, -0.9913, -0.4262,  0.3195,\n",
      "         -0.7071,  0.3346, -0.0433,  0.7168,  0.7174,  0.1087,  0.5291,  0.7224,\n",
      "          1.1723, -0.8229,  1.5180,  0.2937,  2.7235,  0.1583,  0.6831,  0.1004,\n",
      "         -0.4254,  1.8922, -0.8728,  0.5426, -1.1685,  0.7886, -0.0134, -1.3900,\n",
      "         -0.4032, -2.3543, -0.2043,  0.2854, -0.2966,  1.1752, -0.1103,  0.3678,\n",
      "         -1.4928, -0.7847, -0.5910, -1.2363, -0.2765, -0.1703,  0.7019,  2.0810,\n",
      "          0.9046,  0.2015, -1.5678,  0.0708, -0.2766,  0.3982,  0.4145, -1.5694,\n",
      "          1.6423, -0.0366,  2.3634,  0.5037,  0.8284,  0.8604,  1.1379, -1.1299,\n",
      "          0.6737,  1.1334, -0.1407,  0.4699,  1.2284, -0.1160,  0.2210,  0.9994,\n",
      "         -1.3844, -0.0952,  1.2101, -0.1057,  0.3055, -0.8778, -0.8063, -1.8247,\n",
      "         -1.4696, -0.5058, -1.2763, -0.9626,  1.4557,  0.0334, -1.0512, -0.8582,\n",
      "         -0.0226, -0.1588, -0.3404,  1.3265],\n",
      "        [ 0.2829,  0.2427, -0.2617,  1.0001,  1.4305,  0.1386,  1.9481,  0.0381,\n",
      "          0.6880,  0.0583, -0.3222, -0.3150, -2.1943,  3.7868, -0.8557,  1.0316,\n",
      "          2.6695,  0.3864,  0.0655,  0.1251, -1.9793,  0.3107,  0.1958, -0.5496,\n",
      "         -0.4798, -1.4138,  0.8336, -0.0687, -1.4298, -0.4542,  0.5757, -0.4206,\n",
      "         -0.5224,  0.3136, -0.2745, -0.4921, -0.6086, -1.4289,  1.6788,  1.6693,\n",
      "         -0.1780, -1.6132, -1.1524, -1.1062, -0.9869,  0.0129, -0.2583,  0.0148,\n",
      "          0.4746, -0.2366, -1.5950,  0.9124, -0.9565,  0.9081, -2.1136,  0.4819,\n",
      "          0.6946, -0.2153, -0.7925, -2.0831,  0.3491, -0.0426, -2.5306, -0.0675,\n",
      "          0.6641, -0.8025, -1.1546, -0.0549, -0.8267, -0.6528, -0.3988,  0.2725,\n",
      "          0.3020, -0.0796,  1.6588, -0.4005,  0.5407, -0.4828, -0.4453,  0.2272,\n",
      "         -0.9583,  0.1927,  1.1601, -1.3833, -0.5263,  0.3589,  0.4330,  1.0479,\n",
      "          0.4679,  1.4738, -3.3153, -1.4683,  1.3393,  1.7916, -1.1693, -0.0436,\n",
      "          2.8609,  0.5291,  0.0065, -0.5497],\n",
      "        [-0.5225,  0.4419,  0.3787, -1.6686, -0.4337, -0.4184, -0.4754,  1.6702,\n",
      "          0.1149, -0.3399,  2.4759, -1.4809, -0.5935, -0.6092, -0.3184, -0.7161,\n",
      "          0.4067, -0.0506, -0.5987, -0.0721,  0.8781,  0.4254,  0.6057, -0.2759,\n",
      "         -0.9511,  0.6005, -1.0363, -0.8153, -0.2195, -0.9497,  0.9174, -0.1999,\n",
      "         -0.7338,  0.1702,  0.3584,  0.8497, -0.7121, -1.1019,  1.4181,  1.1842,\n",
      "          0.8986, -0.1387,  0.6966,  0.0854,  1.4387, -0.1757, -0.5703, -0.9951,\n",
      "          1.2144, -0.3978,  0.9911,  0.0268, -0.1392, -1.9244,  0.2530,  0.0630,\n",
      "          0.2282,  0.2852, -3.4721, -0.9016,  1.3791, -0.9909,  2.0902, -0.3845,\n",
      "         -0.7233,  0.4252,  0.5107,  0.3270, -0.3256,  0.6517, -0.2387,  0.4889,\n",
      "         -0.2339, -0.5710, -0.4732, -0.8697,  1.7776, -2.4364, -0.5809, -0.1593,\n",
      "         -0.5191,  0.7686,  0.4513,  1.2580,  1.2901, -0.3604, -1.1339, -0.4391,\n",
      "          1.3955, -1.3517, -0.0845, -1.1233,  0.2479,  1.1976,  0.9184,  0.4120,\n",
      "          1.7926,  1.3807, -0.7841, -1.5721],\n",
      "        [-0.6001,  0.1834,  1.1821, -1.0262,  0.0870, -1.1341, -0.0704,  1.6180,\n",
      "          0.2525, -1.6510,  0.0491,  2.0496, -1.0711,  0.4765, -0.8314, -1.3478,\n",
      "          1.0785, -0.2939, -0.0205,  0.5753, -0.6287,  0.8807,  0.0268,  0.0289,\n",
      "         -0.0728,  0.3066,  0.3139, -0.3091, -1.1666,  1.1990,  0.0296,  1.6911,\n",
      "          0.2837, -0.3316,  1.4191,  0.2732,  0.3356,  1.3988,  1.8981, -0.5974,\n",
      "         -0.7672, -0.8761, -0.7782, -0.2430, -0.1309,  0.9731,  0.1125,  0.8408,\n",
      "          0.5758, -1.2689, -1.0742,  0.5361,  0.1014, -0.7144, -0.1880,  0.0722,\n",
      "         -1.9157,  0.3607,  0.5376, -0.7409, -0.7113, -1.1164, -0.8579, -0.5863,\n",
      "         -0.8973,  0.4376,  0.6892, -2.3802, -1.4823,  0.5773, -2.2070, -0.0913,\n",
      "         -1.8322, -0.4138, -0.4725,  0.3604,  1.1127, -0.3419,  0.8544,  1.5039,\n",
      "         -1.3430, -0.8914,  0.9447, -0.7967, -0.7729, -0.6211, -0.8527,  1.2114,\n",
      "         -0.4981, -1.5490,  0.8116,  0.6531, -2.2850, -0.8318,  0.3971,  0.6546,\n",
      "         -1.4540,  0.7891, -0.1088, -0.9819],\n",
      "        [ 0.0711,  0.6473, -1.0477, -1.2579, -0.9026,  0.3187, -0.4627,  2.9155,\n",
      "         -0.8686, -0.6625,  0.9529,  0.4767, -0.6103, -1.1385,  0.0936,  0.8989,\n",
      "          2.0513,  0.0092,  1.3477,  0.3302,  0.4921,  1.0195,  0.9072,  1.3118,\n",
      "          0.4977, -0.8660, -0.4911, -2.1480,  0.7225, -1.8548,  0.0462,  1.7344,\n",
      "         -1.3094,  0.2485, -1.0303, -0.0519,  1.0250, -0.9293,  1.3493,  0.1316,\n",
      "          0.0824,  0.7893, -1.6382, -0.0245, -0.5889, -0.1984,  0.0176, -0.1954,\n",
      "          1.2584,  1.9189,  0.9363,  0.1713, -0.7267, -1.2014,  1.6751,  0.5221,\n",
      "         -0.0310, -0.1771, -0.4744, -0.0472, -0.5646, -1.0655,  1.2198,  0.6787,\n",
      "          0.3068, -0.3307,  0.2760, -0.8537, -1.2273,  0.8848,  0.5285, -0.5337,\n",
      "         -1.0126,  0.7417, -1.6704, -0.3290, -0.3214,  1.3134, -2.3196, -0.1858,\n",
      "          0.9286,  1.2054, -1.0908,  0.6287, -0.1558,  0.7017, -0.2569,  0.0106,\n",
      "         -0.4760, -0.3863,  0.8778,  1.7532,  0.8070,  0.4499,  0.3932, -0.6940,\n",
      "          1.6358, -0.2272,  0.0953,  1.4439]])\n"
     ]
    }
   ],
   "source": [
    "W1 = torch.randn((6, 100)) # the first layer of neurons/nodes has 6 inputs (3 for the 3 letters * 2 for the 2D embedding) and 100 nodes which we chose arbitrarily\n",
    "print(W1)\n",
    "b1 = torch.randn(100) # each of the 100 nodes has a bias\n",
    "h = torch.tanh(emb.view(-1, 6) @ W1 + b1) # use tanh as our activation function for this layer, each neuron is the result of a matrix multiplication @ of the embedding vector and node weights plus matrix add of the bias\n",
    "# emb.view splices the tensor into segments of the size you direct, -1 says \"i don't care how many on this dimension\"\n",
    "# <input examples>, 6 @ 6, 100 -> <input examples>, 100"
   ]
  },
  {
   "cell_type": "code",
   "execution_count": 13,
   "id": "fc6f09e7",
   "metadata": {},
   "outputs": [],
   "source": [
    "W2 = torch.randn((100, 27)) # next layer has 100 inputs (for the 100 nodes in first layer) and 27 outputs (1 per char)\n",
    "b2 = torch.randn(27) # one bias per node\n",
    "logits = h @ W2 + b2 # non-normalized output of this layer"
   ]
  },
  {
   "cell_type": "code",
   "execution_count": null,
   "id": "3d0291b5",
   "metadata": {},
   "outputs": [],
   "source": [
    "counts = logits.exp() # exponentiate logits (e^logit) to get the expected \"count\" of each character coming next\n",
    "prob = counts / counts.sum(1, keepdims=True) # normalize the counts to get a <0,1> probability\n",
    "loss = -prob[torch.arange(32), Y].log().mean() # the loss is the mean of the negative log odds of the actual value being chosen by the model"
   ]
  },
  {
   "cell_type": "code",
   "execution_count": 21,
   "id": "c20dbdf7",
   "metadata": {},
   "outputs": [],
   "source": [
    "# ------------ now made respectable :) ---------------"
   ]
  },
  {
   "cell_type": "code",
   "execution_count": 22,
   "id": "463f7cb7",
   "metadata": {},
   "outputs": [],
   "source": [
    "g = torch.Generator().manual_seed(2147483647) # for reproducibility\n",
    "C = torch.randn((27, 10), generator=g) # 10dimensional rep of 27 symbols\n",
    "W1 = torch.randn((30, 200), generator=g) # 10*3 (dimensions * block_size) inputs, 200 first layer nodes\n",
    "b1 = torch.randn(200, generator=g) # 200 biases for 200 nodes\n",
    "W2 = torch.randn((200, 27), generator=g) # 200 first layer nodes, 27 output nodes\n",
    "b2 = torch.randn(27, generator=g) # 27 biases for 27 nodes\n",
    "parameters = [C, W1, b1, W2, b2] # list of all the params we can tune"
   ]
  },
  {
   "cell_type": "code",
   "execution_count": 23,
   "id": "d72b013b",
   "metadata": {
    "scrolled": false
   },
   "outputs": [
    {
     "data": {
      "text/plain": [
       "11897"
      ]
     },
     "execution_count": 23,
     "metadata": {},
     "output_type": "execute_result"
    }
   ],
   "source": [
    "sum(p.nelement() for p in parameters) # number of parameters in total\n",
    "# inital # params: 11897"
   ]
  },
  {
   "cell_type": "code",
   "execution_count": 24,
   "id": "84a12ee9",
   "metadata": {},
   "outputs": [],
   "source": [
    "for p in parameters: # all params need a gradient so we can tweak them\n",
    "  p.requires_grad = True"
   ]
  },
  {
   "cell_type": "code",
   "execution_count": 25,
   "id": "68b61544",
   "metadata": {},
   "outputs": [],
   "source": [
    "lre = torch.linspace(-3, 0, 1000) # learning rate exponent - test different LRs, use exponents for more precise scaling\n",
    "lrs = 10**lre # learning rates - 10^lre"
   ]
  },
  {
   "cell_type": "code",
   "execution_count": 26,
   "id": "08ce2bfd",
   "metadata": {},
   "outputs": [],
   "source": [
    "# track the each learning rate and associated stats\n",
    "# error in the video here - stepi will repeat the indicies if you run more than once\n",
    "lri = []\n",
    "lossi = []\n",
    "stepi = []"
   ]
  },
  {
   "cell_type": "code",
   "execution_count": 27,
   "id": "2bf05848",
   "metadata": {},
   "outputs": [],
   "source": [
    "for i in range(200000):\n",
    "  \n",
    "  # minibatch construct\n",
    "  ix = torch.randint(0, Xtr.shape[0], (32,)) # pick 32 random examples from the training set\n",
    "  \n",
    "  # forward pass\n",
    "  emb = C[Xtr[ix]] # (32, 3, 10), embed the selected examples\n",
    "  h = torch.tanh(emb.view(-1, 30) @ W1 + b1) # (32, 200), activation function for each node in L1\n",
    "  logits = h @ W2 + b2 # (32, 27) # pre-normalized values from L2\n",
    "  loss = F.cross_entropy(logits, Ytr[ix]) # pytorch builtin way to so softmax\n",
    "  #print(loss.item())\n",
    "  \n",
    "  # backward pass, don't forget to 0 the existing gradients!\n",
    "  for p in parameters:\n",
    "    p.grad = None\n",
    "  loss.backward() # i would've thought this automatically zeroed the gradients but it does not\n",
    "  \n",
    "  # update each param value based on gradient calculated ^\n",
    "  #lr = lrs[i]\n",
    "  lr = 0.1 if i < 100000 else 0.01 # heuristically choose the step size\n",
    "  for p in parameters:\n",
    "    p.data += -lr * p.grad # gradient is in direction of increasing loss, so take negative step\n",
    "\n",
    "  # track stats\n",
    "  #lri.append(lre[i])\n",
    "  stepi.append(i)\n",
    "  lossi.append(loss.log10().item())\n",
    "\n",
    "#print(loss.item())"
   ]
  },
  {
   "cell_type": "code",
   "execution_count": 34,
   "id": "b0512e8d",
   "metadata": {},
   "outputs": [
    {
     "data": {
      "text/plain": [
       "[<matplotlib.lines.Line2D at 0x7fb291e24520>]"
      ]
     },
     "execution_count": 34,
     "metadata": {},
     "output_type": "execute_result"
    },
    {
     "data": {
      "image/png": "[encoded data removed]",
      "text/plain": [
       "<Figure size 640x480 with 1 Axes>"
      ]
     },
     "metadata": {},
     "output_type": "display_data"
    }
   ],
   "source": [
    "plt.plot(lossi) # since we're adding losses in order, don't need to plot index (it's implied), this fixes multi-run problem"
   ]
  },
  {
   "cell_type": "code",
   "execution_count": 36,
   "id": "0687fdcb",
   "metadata": {},
   "outputs": [
    {
     "name": "stdout",
     "output_type": "stream",
     "text": [
      "torch.Size([182625, 3, 10])\n"
     ]
    },
    {
     "data": {
      "text/plain": [
       "tensor(2.1154, grad_fn=<NllLossBackward0>)"
      ]
     },
     "execution_count": 36,
     "metadata": {},
     "output_type": "execute_result"
    }
   ],
   "source": [
    "emb = C[Xtr] # (182k, 3, 10)\n",
    "print(emb.shape)\n",
    "h = torch.tanh(emb.view(-1, 30) @ W1 + b1) # (182k, 200)\n",
    "logits = h @ W2 + b2 # (182k, 27)\n",
    "loss = F.cross_entropy(logits, Ytr)\n",
    "\n",
    "# initial train resuls: tensor(2.1154, grad_fn=<NllLossBackward0>)\n",
    "\n",
    "loss"
   ]
  },
  {
   "cell_type": "code",
   "execution_count": 30,
   "id": "4714e28b",
   "metadata": {},
   "outputs": [
    {
     "data": {
      "text/plain": [
       "tensor(2.1557, grad_fn=<NllLossBackward0>)"
      ]
     },
     "execution_count": 30,
     "metadata": {},
     "output_type": "execute_result"
    }
   ],
   "source": [
    "emb = C[Xdev] # (32, 3, 2) (numbers are wrong, copy paste error from above)\n",
    "h = torch.tanh(emb.view(-1, 30) @ W1 + b1) # (32, 100)\n",
    "logits = h @ W2 + b2 # (32, 27)\n",
    "loss = F.cross_entropy(logits, Ydev)\n",
    "\n",
    "# initial dev results: tensor(2.1557, grad_fn=<NllLossBackward0>)\n",
    "\n",
    "loss"
   ]
  },
  {
   "cell_type": "code",
   "execution_count": 31,
   "id": "c46fa3f6",
   "metadata": {},
   "outputs": [
    {
     "data": {
      "image/png": "[encoded data removed]",
      "text/plain": [
       "<Figure size 800x800 with 1 Axes>"
      ]
     },
     "metadata": {},
     "output_type": "display_data"
    }
   ],
   "source": [
    "# visualize dimensions 0 and 1 of the embedding matrix C for all characters\n",
    "plt.figure(figsize=(8,8))\n",
    "plt.scatter(C[:,0].data, C[:,1].data, s=200)\n",
    "for i in range(C.shape[0]):\n",
    "    plt.text(C[i,0].item(), C[i,1].item(), itos[i], ha=\"center\", va=\"center\", color='white')\n",
    "plt.grid('minor')"
   ]
  },
  {
   "cell_type": "code",
   "execution_count": 32,
   "id": "a2f1b248",
   "metadata": {},
   "outputs": [
    {
     "data": {
      "text/plain": [
       "torch.Size([1, 3, 10])"
      ]
     },
     "execution_count": 32,
     "metadata": {},
     "output_type": "execute_result"
    }
   ],
   "source": [
    "context = [0] * block_size\n",
    "C[torch.tensor([context])].shape # three lists of the 10 input values of ."
   ]
  },
  {
   "cell_type": "code",
   "execution_count": 33,
   "id": "57689798",
   "metadata": {},
   "outputs": [
    {
     "name": "stdout",
     "output_type": "stream",
     "text": [
      "carmah.\n",
      "amelle.\n",
      "khi.\n",
      "mili.\n",
      "taty.\n",
      "hacarlie.\n",
      "mahnen.\n",
      "delyah.\n",
      "jareei.\n",
      "ner.\n",
      "kia.\n",
      "chaiir.\n",
      "kaleigh.\n",
      "ham.\n",
      "joce.\n",
      "quinn.\n",
      "sulvera.\n",
      "jadai.\n",
      "watelo.\n",
      "dearyn.\n"
     ]
    }
   ],
   "source": [
    "# sample from the model\n",
    "g = torch.Generator().manual_seed(2147483647 + 10)\n",
    "\n",
    "for _ in range(20):\n",
    "    \n",
    "    out = []\n",
    "    context = [0] * block_size # initialize with all ...\n",
    "    while True:\n",
    "      emb = C[torch.tensor([context])] # (1,block_size,d)\n",
    "      h = torch.tanh(emb.view(1, -1) @ W1 + b1)\n",
    "      logits = h @ W2 + b2\n",
    "      probs = F.softmax(logits, dim=1)\n",
    "      ix = torch.multinomial(probs, num_samples=1, generator=g).item()\n",
    "      context = context[1:] + [ix]\n",
    "      out.append(ix)\n",
    "      if ix == 0:\n",
    "        break\n",
    "    \n",
    "    print(''.join(itos[i] for i in out))"
   ]
  },
  {
   "cell_type": "code",
   "execution_count": null,
   "id": "76592081",
   "metadata": {},
   "outputs": [],
   "source": [
    "# ---- try to beat his losses ----"
   ]
  },
  {
   "cell_type": "code",
   "execution_count": 117,
   "id": "0ede8142",
   "metadata": {},
   "outputs": [
    {
     "name": "stdout",
     "output_type": "stream",
     "text": [
      "torch.Size([182424, 3]) torch.Size([182424])\n",
      "torch.Size([22836, 3]) torch.Size([22836])\n",
      "torch.Size([22886, 3]) torch.Size([22886])\n"
     ]
    }
   ],
   "source": [
    "# build the dataset\n",
    "block_size = 3 # context length: how many characters do we take to predict the next one?\n",
    "\n",
    "# see above\n",
    "def build_dataset(words):  \n",
    "  X, Y = [], []\n",
    "  for w in words:\n",
    "\n",
    "    #print(w)\n",
    "    context = [0] * block_size\n",
    "    for ch in w + '.':\n",
    "      ix = stoi[ch]\n",
    "      X.append(context)\n",
    "      Y.append(ix)\n",
    "      #print(''.join(itos[i] for i in context), '--->', itos[ix])\n",
    "      context = context[1:] + [ix] # crop and append\n",
    "\n",
    "  X = torch.tensor(X)\n",
    "  Y = torch.tensor(Y)\n",
    "  print(X.shape, Y.shape)\n",
    "  return X, Y\n",
    "\n",
    "import random\n",
    "random.seed(42) # use same seed for reproducability\n",
    "random.shuffle(words) # randomize the words in case there was an ordering in the file\n",
    "n1 = int(0.8*len(words)) # use 80% of the words as training\n",
    "n2 = int(0.9*len(words)) # 10% as dev\n",
    "                         # 10% implied as test\n",
    "    \n",
    "Xtr, Ytr = build_dataset(words[:n1]) # training set used to tune the weights\n",
    "Xdev, Ydev = build_dataset(words[n1:n2]) # dev set used to tune hyperparams like context length, # of neurons, etc.\n",
    "Xte, Yte = build_dataset(words[n2:]) # testing set used only for testing final model\n",
    "                                     # any time test set is used and you act on the result, increases odds of overfitting"
   ]
  },
  {
   "cell_type": "code",
   "execution_count": 126,
   "id": "2da7a931",
   "metadata": {},
   "outputs": [],
   "source": [
    "input_dimensions = 10\n",
    "num_layer1_nodes = 100\n",
    "num_layer2_nodes = 100\n",
    "\n",
    "g = torch.Generator().manual_seed(2147483647) # for reproducibility\n",
    "C = torch.randn((27, input_dimensions), generator=g) # n dimensional rep of 27 symbols\n",
    "W1 = torch.randn((input_dimensions * block_size, num_layer1_nodes), generator=g) #  dimensions * block_size inputs, num_layer1_nodes first layer nodes\n",
    "b1 = torch.randn(num_layer1_nodes, generator=g) # a bias for each l1 node\n",
    "W3 = torch.randn(num_layer1_nodes, num_layer2_nodes, generator=g)\n",
    "b3 = torch.randn(num_layer2_nodes, generator=g)\n",
    "W2 = torch.randn((num_layer2_nodes, 27), generator=g) # n first layer nodes, 27 output nodes\n",
    "b2 = torch.randn(27, generator=g) # a bias for each output node\n",
    "parameters = [C, W1, b1, W2, b2, W3, b3] # list of all the params we can tune"
   ]
  },
  {
   "cell_type": "code",
   "execution_count": 127,
   "id": "250986f2",
   "metadata": {},
   "outputs": [
    {
     "data": {
      "text/plain": [
       "16197"
      ]
     },
     "execution_count": 127,
     "metadata": {},
     "output_type": "execute_result"
    }
   ],
   "source": [
    "sum(p.nelement() for p in parameters) # number of parameters in total\n",
    "# inital # params: 11897"
   ]
  },
  {
   "cell_type": "code",
   "execution_count": 128,
   "id": "210255b6",
   "metadata": {},
   "outputs": [],
   "source": [
    "for p in parameters: # all params need a gradient so we can tweak them\n",
    "  p.requires_grad = True"
   ]
  },
  {
   "cell_type": "code",
   "execution_count": 129,
   "id": "37c59985",
   "metadata": {},
   "outputs": [],
   "source": [
    "# track the each learning rate and associated stats\n",
    "# error in the video here - stepi will repeat the indicies if you run more than once\n",
    "lossi = []"
   ]
  },
  {
   "cell_type": "code",
   "execution_count": 130,
   "id": "b554f7e9",
   "metadata": {},
   "outputs": [],
   "source": [
    "sample_size = 16\n",
    "\n",
    "for i in range(300000):\n",
    "  \n",
    "  # minibatch construct\n",
    "  ix = torch.randint(0, Xtr.shape[0], (sample_size,)) # pick sample_size random examples from the training set\n",
    "  \n",
    "  # forward pass\n",
    "  emb = C[Xtr[ix]] # embed the selected examples\n",
    "  h = torch.tanh(emb.view(-1, block_size * input_dimensions) @ W1 + b1) # activation function for each node in L1\n",
    "  h2 = torch.tanh(h @ W3 + b3)\n",
    "  logits = h2 @ W2 + b2 # pre-normalized values from L2\n",
    "  loss = F.cross_entropy(logits, Ytr[ix]) # pytorch builtin way to so softmax\n",
    "  #print(loss.item())\n",
    "  \n",
    "  # backward pass, don't forget to 0 the existing gradients!\n",
    "  for p in parameters:\n",
    "    p.grad = None\n",
    "  loss.backward() # i would've thought this automatically zeroed the gradients but it does not\n",
    "  \n",
    "  # update each param value based on gradient calculated ^\n",
    "  #lr = lrs[i]\n",
    "  lr = 0.1 if i < 150000 else 0.01 # heuristically choose the step size\n",
    "  for p in parameters:\n",
    "    p.data += -lr * p.grad # gradient is in direction of increasing loss, so take negative step\n",
    "\n",
    "  # track stats\n",
    "  #lri.append(lre[i])\n",
    "  lossi.append(loss.log10().item())\n",
    "\n",
    "#print(loss.item())"
   ]
  },
  {
   "cell_type": "code",
   "execution_count": 131,
   "id": "4ffc8765",
   "metadata": {
    "scrolled": true
   },
   "outputs": [
    {
     "data": {
      "text/plain": [
       "[<matplotlib.lines.Line2D at 0x7fb2aa856320>]"
      ]
     },
     "execution_count": 131,
     "metadata": {},
     "output_type": "execute_result"
    },
    {
     "data": {
      "image/png": "[encoded data removed]",
      "text/plain": [
       "<Figure size 640x480 with 1 Axes>"
      ]
     },
     "metadata": {},
     "output_type": "display_data"
    }
   ],
   "source": [
    "plt.plot(lossi) # since we're adding losses in order, don't need to plot index (it's implied), this fixes multi-run problem"
   ]
  },
  {
   "cell_type": "code",
   "execution_count": 132,
   "id": "e95172f7",
   "metadata": {},
   "outputs": [
    {
     "name": "stdout",
     "output_type": "stream",
     "text": [
      "torch.Size([182424, 3, 10])\n"
     ]
    },
    {
     "data": {
      "text/plain": [
       "tensor(2.2392, grad_fn=<NllLossBackward0>)"
      ]
     },
     "execution_count": 132,
     "metadata": {},
     "output_type": "execute_result"
    }
   ],
   "source": [
    "emb = C[Xtr] # (182k, 3, 10)\n",
    "print(emb.shape)\n",
    "h = torch.tanh(emb.view(-1, block_size * input_dimensions) @ W1 + b1) # (182k, 200)\n",
    "h2 = torch.tanh(h @ W3 + b3)\n",
    "logits = h2 @ W2 + b2 # pre-normalized values from L2\n",
    "loss = F.cross_entropy(logits, Ytr)\n",
    "\n",
    "# initial train resuls: tensor(2.1154, grad_fn=<NllLossBackward0>)\n",
    "# more more examples each train, fewer trains: tensor(2.2924, grad_fn=<NllLossBackward0>)\n",
    "# ^ + 400 nodes instead of 200: tensor(2.2794, grad_fn=<NllLossBackward0>)\n",
    "# ^ + same number of trains: tensor(2.0963, grad_fn=<NllLossBackward0>) - probably overfit\n",
    "# initial settings + 4 context window: tensor(2.1590, grad_fn=<NllLossBackward0>)\n",
    "# initial settings + 2 layers of 200 nodes: tensor(2.1528, grad_fn=<NllLossBackward0>) - 5x number of params \n",
    "# initial settings + 2 layers of 100 nodes: tensor(2.1274, grad_fn=<NllLossBackward0>)\n",
    "# initial settings + 2 layers of 50 nodes: tensor(2.1712, grad_fn=<NllLossBackward0>)\n",
    "# initial settings + 2 layers of 100 nodes + half training size + 50% more steps: tensor(2.2392, grad_fn=<NllLossBackward0>)\n",
    "\n",
    "loss"
   ]
  },
  {
   "cell_type": "code",
   "execution_count": 133,
   "id": "e57566ce",
   "metadata": {},
   "outputs": [
    {
     "data": {
      "text/plain": [
       "tensor(2.2774, grad_fn=<NllLossBackward0>)"
      ]
     },
     "execution_count": 133,
     "metadata": {},
     "output_type": "execute_result"
    }
   ],
   "source": [
    "emb = C[Xdev] # (32, 3, 2) (numbers are wrong, copy paste error in his notebook)\n",
    "h = torch.tanh(emb.view(-1, block_size * input_dimensions) @ W1 + b1) # (32, 100)\n",
    "h2 = torch.tanh(h @ W3 + b3)\n",
    "logits = h2 @ W2 + b2 # pre-normalized values from L2\n",
    "loss = F.cross_entropy(logits, Ydev)\n",
    "\n",
    "# initial dev results: tensor(2.1557, grad_fn=<NllLossBackward0>)\n",
    "# more more examples each train, fewer trains: tensor(2.3083, grad_fn=<NllLossBackward0>)\n",
    "# ^ + 400 nodes: tensor(2.3024, grad_fn=<NllLossBackward0>)\n",
    "# ^ + same number of trains: tensor(2.1593, grad_fn=<NllLossBackward0>)\n",
    "# initial settings + 4 context window: tensor(2.1973, grad_fn=<NllLossBackward0>)\n",
    "# initial settings + 2 layers of 200 nodes: tensor(2.2087, grad_fn=<NllLossBackward0>)\n",
    "# initial settings + 2 layers of 100 nodes: tensor(2.1871, grad_fn=<NllLossBackward0>)\n",
    "# initial settings + 2 layers of 50 nodes: tensor(2.2207, grad_fn=<NllLossBackward0>)\n",
    "# initial settings + 2 layers of 100 nodes + half training size + 50% more steps: tensor(2.2774, grad_fn=<NllLossBackward0>)\n",
    "\n",
    "loss"
   ]
  },
  {
   "cell_type": "code",
   "execution_count": 31,
   "id": "4e1d16ec",
   "metadata": {},
   "outputs": [
    {
     "data": {
      "image/png": "[encoded data removed]",
      "text/plain": [
       "<Figure size 800x800 with 1 Axes>"
      ]
     },
     "metadata": {},
     "output_type": "display_data"
    }
   ],
   "source": [
    "# visualize dimensions 0 and 1 of the embedding matrix C for all characters\n",
    "plt.figure(figsize=(8,8))\n",
    "plt.scatter(C[:,0].data, C[:,1].data, s=200)\n",
    "for i in range(C.shape[0]):\n",
    "    plt.text(C[i,0].item(), C[i,1].item(), itos[i], ha=\"center\", va=\"center\", color='white')\n",
    "plt.grid('minor')"
   ]
  }
 ],
 "metadata": {
  "kernelspec": {
   "display_name": "Python 3 (ipykernel)",
   "language": "python",
   "name": "python3"
  },
  "language_info": {
   "codemirror_mode": {
    "name": "ipython",
    "version": 3
   },
   "file_extension": ".py",
   "mimetype": "text/x-python",
   "name": "python",
   "nbconvert_exporter": "python",
   "pygments_lexer": "ipython3",
   "version": "3.10.9"
  }
 },
 "nbformat": 4,
 "nbformat_minor": 5
}
